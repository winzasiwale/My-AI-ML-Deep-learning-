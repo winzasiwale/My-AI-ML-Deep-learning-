{
 "cells": [
  {
   "cell_type": "code",
   "execution_count": 4,
   "id": "c12b3909-54d9-491c-b902-e8bb0d1cda1d",
   "metadata": {},
   "outputs": [
    {
     "name": "stdout",
     "output_type": "stream",
     "text": [
      "Requirement already satisfied: sqlalchemy in c:\\programdata\\anaconda3\\lib\\site-packages (2.0.30)Note: you may need to restart the kernel to use updated packages.\n",
      "\n",
      "Requirement already satisfied: pymysql in c:\\programdata\\anaconda3\\lib\\site-packages (1.1.1)\n",
      "Requirement already satisfied: typing-extensions>=4.6.0 in c:\\programdata\\anaconda3\\lib\\site-packages (from sqlalchemy) (4.11.0)\n",
      "Requirement already satisfied: greenlet!=0.4.17 in c:\\programdata\\anaconda3\\lib\\site-packages (from sqlalchemy) (3.0.1)\n"
     ]
    }
   ],
   "source": [
    "pip install sqlalchemy pymysql"
   ]
  },
  {
   "cell_type": "code",
   "execution_count": 5,
   "id": "6801fd91-d1cb-4906-9a21-421067798129",
   "metadata": {},
   "outputs": [
    {
     "name": "stdout",
     "output_type": "stream",
     "text": [
      "   address_id               address address2  district  city_id postal_code  \\\n",
      "0           1     47 MySakila Drive     None   Alberta      300               \n",
      "1           2    28 MySQL Boulevard     None       QLD      576               \n",
      "2           3     23 Workhaven Lane     None   Alberta      300               \n",
      "3           4  1411 Lillydale Drive     None       QLD      576               \n",
      "4           5        1913 Hanoi Way           Nagasaki      463       35200   \n",
      "\n",
      "         phone         last_update  \n",
      "0              2014-09-25 22:30:27  \n",
      "1              2014-09-25 22:30:09  \n",
      "2  14033335568 2014-09-25 22:30:27  \n",
      "3   6172235589 2014-09-25 22:30:09  \n",
      "4  28303384290 2014-09-25 22:31:53  \n"
     ]
    }
   ],
   "source": [
    "# Import necessary libraries\n",
    "from sqlalchemy import create_engine\n",
    "import pandas as pd\n",
    "\n",
    "# Database connection details\n",
    "db_user = 'root'  # Replace with your MySQL username\n",
    "db_password = ''  # Replace with your MySQL password\n",
    "db_host = '127.0.0.1'  # Localhost\n",
    "db_name = 'sakila'  # Correct database name, without the tab\n",
    "\n",
    "# Create the connection URL\n",
    "connection_url = f\"mysql+pymysql://{db_user}:{db_password}@{db_host}/{db_name}\"\n",
    "\n",
    "# Create an SQLAlchemy engine\n",
    "engine = create_engine(connection_url)\n",
    "\n",
    "# Query the database\n",
    "query = \"SELECT * FROM address;\"  # Replace 'address' with the appropriate table if needed\n",
    "\n",
    "# Read the query results into a pandas DataFrame\n",
    "\n",
    "df = pd.read_sql(query, engine)\n",
    "\n",
    "# Display the DataFrame\n",
    "print(df.head())\n",
    "\n",
    "# Close the connection\n",
    "engine.dispose()"
   ]
  },
  {
   "cell_type": "code",
   "execution_count": 3,
   "id": "4fccb50a-61e9-4d13-ad8b-a1ef5b377694",
   "metadata": {},
   "outputs": [
    {
     "data": {
      "text/html": [
       "<div>\n",
       "<style scoped>\n",
       "    .dataframe tbody tr th:only-of-type {\n",
       "        vertical-align: middle;\n",
       "    }\n",
       "\n",
       "    .dataframe tbody tr th {\n",
       "        vertical-align: top;\n",
       "    }\n",
       "\n",
       "    .dataframe thead th {\n",
       "        text-align: right;\n",
       "    }\n",
       "</style>\n",
       "<table border=\"1\" class=\"dataframe\">\n",
       "  <thead>\n",
       "    <tr style=\"text-align: right;\">\n",
       "      <th></th>\n",
       "      <th>address_id</th>\n",
       "      <th>city_id</th>\n",
       "      <th>last_update</th>\n",
       "    </tr>\n",
       "  </thead>\n",
       "  <tbody>\n",
       "    <tr>\n",
       "      <th>count</th>\n",
       "      <td>603.000000</td>\n",
       "      <td>603.000000</td>\n",
       "      <td>603</td>\n",
       "    </tr>\n",
       "    <tr>\n",
       "      <th>mean</th>\n",
       "      <td>302.719735</td>\n",
       "      <td>300.525705</td>\n",
       "      <td>2014-09-25 22:31:57.502487808</td>\n",
       "    </tr>\n",
       "    <tr>\n",
       "      <th>min</th>\n",
       "      <td>1.000000</td>\n",
       "      <td>1.000000</td>\n",
       "      <td>2014-09-25 22:29:59</td>\n",
       "    </tr>\n",
       "    <tr>\n",
       "      <th>25%</th>\n",
       "      <td>151.500000</td>\n",
       "      <td>150.500000</td>\n",
       "      <td>2014-09-25 22:30:56</td>\n",
       "    </tr>\n",
       "    <tr>\n",
       "      <th>50%</th>\n",
       "      <td>303.000000</td>\n",
       "      <td>300.000000</td>\n",
       "      <td>2014-09-25 22:31:53</td>\n",
       "    </tr>\n",
       "    <tr>\n",
       "      <th>75%</th>\n",
       "      <td>453.500000</td>\n",
       "      <td>450.500000</td>\n",
       "      <td>2014-09-25 22:32:56.500000</td>\n",
       "    </tr>\n",
       "    <tr>\n",
       "      <th>max</th>\n",
       "      <td>605.000000</td>\n",
       "      <td>600.000000</td>\n",
       "      <td>2014-09-25 22:34:11</td>\n",
       "    </tr>\n",
       "    <tr>\n",
       "      <th>std</th>\n",
       "      <td>174.853150</td>\n",
       "      <td>173.600949</td>\n",
       "      <td>NaN</td>\n",
       "    </tr>\n",
       "  </tbody>\n",
       "</table>\n",
       "</div>"
      ],
      "text/plain": [
       "       address_id     city_id                    last_update\n",
       "count  603.000000  603.000000                            603\n",
       "mean   302.719735  300.525705  2014-09-25 22:31:57.502487808\n",
       "min      1.000000    1.000000            2014-09-25 22:29:59\n",
       "25%    151.500000  150.500000            2014-09-25 22:30:56\n",
       "50%    303.000000  300.000000            2014-09-25 22:31:53\n",
       "75%    453.500000  450.500000     2014-09-25 22:32:56.500000\n",
       "max    605.000000  600.000000            2014-09-25 22:34:11\n",
       "std    174.853150  173.600949                            NaN"
      ]
     },
     "execution_count": 3,
     "metadata": {},
     "output_type": "execute_result"
    }
   ],
   "source": [
    "df.describe()"
   ]
  },
  {
   "cell_type": "code",
   "execution_count": null,
   "id": "446af421-b04b-42f2-8e97-61a636f40fc0",
   "metadata": {},
   "outputs": [],
   "source": []
  },
  {
   "cell_type": "code",
   "execution_count": null,
   "id": "497aab11-4d11-409d-a49e-87c5aa34fac6",
   "metadata": {},
   "outputs": [],
   "source": []
  }
 ],
 "metadata": {
  "kernelspec": {
   "display_name": "Python 3 (ipykernel)",
   "language": "python",
   "name": "python3"
  },
  "language_info": {
   "codemirror_mode": {
    "name": "ipython",
    "version": 3
   },
   "file_extension": ".py",
   "mimetype": "text/x-python",
   "name": "python",
   "nbconvert_exporter": "python",
   "pygments_lexer": "ipython3",
   "version": "3.12.4"
  }
 },
 "nbformat": 4,
 "nbformat_minor": 5
}
