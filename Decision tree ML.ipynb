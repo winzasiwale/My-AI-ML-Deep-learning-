{
 "cells": [
  {
   "cell_type": "code",
   "execution_count": 1,
   "id": "c29a2e3e-7a30-46ef-b662-e2ce2de68dcd",
   "metadata": {},
   "outputs": [],
   "source": [
    "# decision tree is a tree shaped diagram used to determine a course of action. Each branch of the tree represents a possible decision, occurrence or reation\n",
    "import numpy as np\n",
    "import pandas as pd\n",
    "from sklearn.model_selection import train_test_split\n",
    "from sklearn.tree import DecisionTreeClassifier\n",
    "from sklearn.metrics import accuracy_score\n",
    "from sklearn import tree\n",
    "\n",
    "# loading data file\n",
    "file_path = r'C:\\Users\\Wsiwale\\Desktop\\Dataset\\Bankloan.txt'\n",
    "balance_data=pd.read_csv(file_path)\n"
   ]
  },
  {
   "cell_type": "code",
   "execution_count": 2,
   "id": "cbf10b1a-4b33-49e4-a443-442b3a28cdeb",
   "metadata": {},
   "outputs": [
    {
     "name": "stdout",
     "output_type": "stream",
     "text": [
      "Dataset Length::  700\n",
      "Dataset Shape::  (700, 9)\n"
     ]
    }
   ],
   "source": [
    "# printing the length of the data\n",
    "print('Dataset Length:: ', len(balance_data))\n",
    "# shape of the data which show the length of the data and how many column are their\n",
    "print('Dataset Shape:: ',balance_data.shape)"
   ]
  },
  {
   "cell_type": "code",
   "execution_count": 3,
   "id": "6191928d-39e1-4c71-971d-fb38c4f6f94b",
   "metadata": {},
   "outputs": [
    {
     "name": "stdout",
     "output_type": "stream",
     "text": [
      "Dataset:: \n"
     ]
    },
    {
     "data": {
      "text/html": [
       "<div>\n",
       "<style scoped>\n",
       "    .dataframe tbody tr th:only-of-type {\n",
       "        vertical-align: middle;\n",
       "    }\n",
       "\n",
       "    .dataframe tbody tr th {\n",
       "        vertical-align: top;\n",
       "    }\n",
       "\n",
       "    .dataframe thead th {\n",
       "        text-align: right;\n",
       "    }\n",
       "</style>\n",
       "<table border=\"1\" class=\"dataframe\">\n",
       "  <thead>\n",
       "    <tr style=\"text-align: right;\">\n",
       "      <th></th>\n",
       "      <th>age</th>\n",
       "      <th>ed</th>\n",
       "      <th>employ</th>\n",
       "      <th>address</th>\n",
       "      <th>income</th>\n",
       "      <th>debtinc</th>\n",
       "      <th>creddebt</th>\n",
       "      <th>othdebt</th>\n",
       "      <th>default</th>\n",
       "    </tr>\n",
       "  </thead>\n",
       "  <tbody>\n",
       "    <tr>\n",
       "      <th>0</th>\n",
       "      <td>41.0</td>\n",
       "      <td>3.0</td>\n",
       "      <td>17</td>\n",
       "      <td>12</td>\n",
       "      <td>176.0</td>\n",
       "      <td>9.3</td>\n",
       "      <td>11.359392</td>\n",
       "      <td>5.008608</td>\n",
       "      <td>1</td>\n",
       "    </tr>\n",
       "    <tr>\n",
       "      <th>1</th>\n",
       "      <td>27.0</td>\n",
       "      <td>1.0</td>\n",
       "      <td>10</td>\n",
       "      <td>6</td>\n",
       "      <td>31.0</td>\n",
       "      <td>17.3</td>\n",
       "      <td>1.362202</td>\n",
       "      <td>4.000798</td>\n",
       "      <td>0</td>\n",
       "    </tr>\n",
       "    <tr>\n",
       "      <th>2</th>\n",
       "      <td>40.0</td>\n",
       "      <td>1.0</td>\n",
       "      <td>15</td>\n",
       "      <td>7</td>\n",
       "      <td>NaN</td>\n",
       "      <td>5.5</td>\n",
       "      <td>0.856075</td>\n",
       "      <td>2.168925</td>\n",
       "      <td>0</td>\n",
       "    </tr>\n",
       "    <tr>\n",
       "      <th>3</th>\n",
       "      <td>41.0</td>\n",
       "      <td>NaN</td>\n",
       "      <td>15</td>\n",
       "      <td>14</td>\n",
       "      <td>120.0</td>\n",
       "      <td>2.9</td>\n",
       "      <td>2.658720</td>\n",
       "      <td>0.821280</td>\n",
       "      <td>0</td>\n",
       "    </tr>\n",
       "    <tr>\n",
       "      <th>4</th>\n",
       "      <td>24.0</td>\n",
       "      <td>2.0</td>\n",
       "      <td>2</td>\n",
       "      <td>0</td>\n",
       "      <td>28.0</td>\n",
       "      <td>17.3</td>\n",
       "      <td>1.787436</td>\n",
       "      <td>3.056564</td>\n",
       "      <td>1</td>\n",
       "    </tr>\n",
       "  </tbody>\n",
       "</table>\n",
       "</div>"
      ],
      "text/plain": [
       "    age   ed  employ  address  income  debtinc   creddebt   othdebt default\n",
       "0  41.0  3.0      17       12   176.0      9.3  11.359392  5.008608       1\n",
       "1  27.0  1.0      10        6    31.0     17.3   1.362202  4.000798       0\n",
       "2  40.0  1.0      15        7     NaN      5.5   0.856075  2.168925       0\n",
       "3  41.0  NaN      15       14   120.0      2.9   2.658720  0.821280       0\n",
       "4  24.0  2.0       2        0    28.0     17.3   1.787436  3.056564       1"
      ]
     },
     "execution_count": 3,
     "metadata": {},
     "output_type": "execute_result"
    }
   ],
   "source": [
    "print('Dataset:: ')\n",
    "balance_data.head()"
   ]
  },
  {
   "cell_type": "code",
   "execution_count": 6,
   "id": "323901bc-d65c-434d-830e-c26fccc01b89",
   "metadata": {},
   "outputs": [
    {
     "name": "stdout",
     "output_type": "stream",
     "text": [
      "Non-numeric values in X: ed          20\n",
      "employ       0\n",
      "address      0\n",
      "income      37\n",
      "debtinc      0\n",
      "creddebt     0\n",
      "othdebt      0\n",
      "default      2\n",
      "dtype: int64\n",
      "Training complete.\n"
     ]
    }
   ],
   "source": [
    "# Convert all columns in X to numeric, coercing errors to NaN for inspection\n",
    "X = balance_data.iloc[:, 1:9].apply(pd.to_numeric, errors='coerce')\n",
    "Y = balance_data.iloc[:, 8]  # Ensure Y is numeric or encoded\n",
    "\n",
    "# Check if there are any NaN values after conversion\n",
    "print(\"Non-numeric values in X:\", X.isna().sum())\n",
    "\n",
    "# Optionally, handle NaNs (e.g., by filling with mean or median)\n",
    "X.fillna(X.mean(), inplace=True)  # or drop rows with NaN values: X.dropna()\n",
    "\n",
    "# Splitting data\n",
    "X_train, X_test, Y_train, Y_test = train_test_split(X, Y, test_size=0.3, random_state=100)\n",
    "\n",
    "# Train the Decision Tree Classifier\n",
    "clf_entropy = DecisionTreeClassifier(criterion='entropy', random_state=100, \n",
    "                                     max_depth=3, min_samples_leaf=5)\n",
    "clf_entropy.fit(X_train, Y_train)\n",
    "\n",
    "print(\"Training complete.\")"
   ]
  },
  {
   "cell_type": "code",
   "execution_count": 7,
   "id": "a022b204-35f1-40a6-bea8-795e8d8c592f",
   "metadata": {},
   "outputs": [
    {
     "data": {
      "text/plain": [
       "array(['1', '1', '0', '0', '0', '0', '1', '0', '0', '0', '1', '0', '0',\n",
       "       '0', '0', '0', '0', '0', '0', '0', '0', '0', '0', '1', '0', '0',\n",
       "       '0', '0', '0', '1', '0', '0', '1', '0', '0', '0', '0', '1', '0',\n",
       "       '0', '0', '0', '1', '0', '0', '0', '0', '1', '0', '0', '0', '1',\n",
       "       '0', '1', '0', '0', '0', '0', '1', '1', '0', '1', '0', '0', '1',\n",
       "       '0', '0', '0', '0', '0', '0', '1', '0', '0', '0', '0', '0', '0',\n",
       "       '1', '0', '0', '0', '0', '0', '0', '0', '0', '0', '0', '0', '1',\n",
       "       '0', '0', '0', '0', '1', '0', '0', '0', '0', '0', '1', '0', '0',\n",
       "       '0', '0', '0', '1', '0', '0', '0', '0', '0', '1', '0', '1', '0',\n",
       "       '1', '0', '1', '0', '0', '0', '1', '0', '0', '0', '0', '0', '0',\n",
       "       '0', '0', '0', '1', '0', '1', '0', '0', '0', '0', '1', '0', '0',\n",
       "       '0', '1', '0', '0', '0', '1', '0', '0', '0', '0', '0', '1', '0',\n",
       "       '0', '0', '1', '0', '1', '0', '0', '0', '0', '0', '0', '0', '0',\n",
       "       '0', '0', '0', '1', '0', '1', '0', '0', '0', '0', '0', '0', '0',\n",
       "       '0', '0', '0', '0', '0', '0', '0', '1', '0', '1', '0', '1', '1',\n",
       "       '0', '0', '1', '0', '1', '0', '0', '1', '0', '0', '1', '0', '0',\n",
       "       '1', '0'], dtype=object)"
      ]
     },
     "execution_count": 7,
     "metadata": {},
     "output_type": "execute_result"
    }
   ],
   "source": [
    "# function to make predictions\n",
    "Y_pred_en = clf_entropy.predict(X_test)\n",
    "Y_pred_en"
   ]
  },
  {
   "cell_type": "code",
   "execution_count": null,
   "id": "8b113741-f42a-4791-aa85-9dce1f850aa2",
   "metadata": {},
   "outputs": [],
   "source": []
  }
 ],
 "metadata": {
  "kernelspec": {
   "display_name": "Python 3 (ipykernel)",
   "language": "python",
   "name": "python3"
  },
  "language_info": {
   "codemirror_mode": {
    "name": "ipython",
    "version": 3
   },
   "file_extension": ".py",
   "mimetype": "text/x-python",
   "name": "python",
   "nbconvert_exporter": "python",
   "pygments_lexer": "ipython3",
   "version": "3.12.4"
  }
 },
 "nbformat": 4,
 "nbformat_minor": 5
}
