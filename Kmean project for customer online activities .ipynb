version https://git-lfs.github.com/spec/v1
oid sha256:acb134322489b0a210401c034eaf9323c79872d00c95f5d1181b5bc833cac7d4
size 2245337
